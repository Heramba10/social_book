{
 "cells": [
  {
   "cell_type": "code",
   "execution_count": 2,
   "metadata": {},
   "outputs": [],
   "source": [
    "import pandas as pd\n",
    "import numpy as np"
   ]
  },
  {
   "cell_type": "code",
   "execution_count": 3,
   "metadata": {},
   "outputs": [
    {
     "name": "stdout",
     "output_type": "stream",
     "text": [
      "Original DataFrame:\n",
      "   ID Name  Age\n",
      "0   1    A   23\n",
      "1   2    B   45\n",
      "2   3    C   12\n",
      "3   4    D   67\n",
      "4   5    E   34\n",
      "5   6    F   89\n",
      "6   7    G   56\n",
      "7   8    H   78\n",
      "8   9    I   23\n",
      "9  10    J   12\n"
     ]
    }
   ],
   "source": [
    "data = [\n",
    "    [1, 'A', 23],\n",
    "    [2, 'B', 45],\n",
    "    [3, 'C', 12],\n",
    "    [4, 'D', 67],\n",
    "    [5, 'E', 34],\n",
    "    [6, 'F', 89],\n",
    "    [7, 'G', 56],\n",
    "    [8, 'H', 78],\n",
    "    [9, 'I', 23],\n",
    "    [10, 'J', 12]\n",
    "]\n",
    "\n",
    "df = pd.DataFrame(data, columns=['ID', 'Name', 'Age'])\n",
    "print(\"Original DataFrame:\")\n",
    "print(df)\n"
   ]
  },
  {
   "cell_type": "code",
   "execution_count": 6,
   "metadata": {},
   "outputs": [
    {
     "name": "stdout",
     "output_type": "stream",
     "text": [
      "Filtered DataFrame (Age > 30):\n",
      "   ID Name  Age\n",
      "1   2    B   45\n",
      "3   4    D   67\n",
      "4   5    E   34\n",
      "5   6    F   89\n",
      "6   7    G   56\n",
      "7   8    H   78\n"
     ]
    }
   ],
   "source": [
    "filtered_df = df[df['Age'] > 30]\n",
    "print(\"Filtered DataFrame (Age > 30):\")\n",
    "print(filtered_df)"
   ]
  },
  {
   "cell_type": "code",
   "execution_count": 8,
   "metadata": {},
   "outputs": [
    {
     "name": "stdout",
     "output_type": "stream",
     "text": [
      "\n",
      "Filtered DataFrame\n",
      "  Name  Age\n",
      "0    A   23\n",
      "1    B   45\n",
      "2    C   12\n",
      "3    D   67\n",
      "4    E   34\n",
      "5    F   89\n",
      "6    G   56\n",
      "7    H   78\n",
      "8    I   23\n",
      "9    J   12\n"
     ]
    }
   ],
   "source": [
    "filtered_columns_df = df[['Name', 'Age']]\n",
    "print(\"\\nFiltered DataFrame\")\n",
    "print(filtered_columns_df)"
   ]
  },
  {
   "cell_type": "code",
   "execution_count": 9,
   "metadata": {},
   "outputs": [
    {
     "name": "stdout",
     "output_type": "stream",
     "text": [
      "\n",
      "DataFrame after replacing 23 with 100:\n",
      "   ID Name  Age\n",
      "0   1    A  100\n",
      "1   2    B   45\n",
      "2   3    C   12\n",
      "3   4    D   67\n",
      "4   5    E   34\n",
      "5   6    F   89\n",
      "6   7    G   56\n",
      "7   8    H   78\n",
      "8   9    I  100\n",
      "9  10    J   12\n"
     ]
    }
   ],
   "source": [
    "df_replaced = df.replace(23, 100)\n",
    "print(\"\\nDataFrame after replacing 23 with 100:\")\n",
    "print(df_replaced)"
   ]
  },
  {
   "cell_type": "code",
   "execution_count": 12,
   "metadata": {},
   "outputs": [
    {
     "name": "stdout",
     "output_type": "stream",
     "text": [
      "    ID Name  Age\n",
      "0    1    A   23\n",
      "1    2    B   45\n",
      "2    3    C   12\n",
      "3    4    D   67\n",
      "4    5    E   34\n",
      "5    6    F   89\n",
      "6    7    G   56\n",
      "7    8    H   78\n",
      "8    9    I   23\n",
      "9   10    J   12\n",
      "10  86   92   32\n",
      "11  63   97   66\n",
      "12  74   27   39\n",
      "13  72   45   69\n",
      "14  99   19   89\n",
      "15  33   85   64\n",
      "16  12   17   94\n",
      "17  62   74   33\n",
      "18  73   22   88\n",
      "19  86   15   28\n"
     ]
    }
   ],
   "source": [
    "dummy_data = np.random.randint(10, 100, size=(10, 3))  # 10 rows and 3 columns\n",
    "dummy_df = pd.DataFrame(dummy_data, columns=['ID', 'Name', 'Age'])\n",
    "\n",
    "result_df = pd.concat([df, dummy_df], ignore_index=True)\n",
    "\n",
    "# Display the resulting DataFrame\n",
    "print(result_df)"
   ]
  }
 ],
 "metadata": {
  "kernelspec": {
   "display_name": "Python 3",
   "language": "python",
   "name": "python3"
  },
  "language_info": {
   "codemirror_mode": {
    "name": "ipython",
    "version": 3
   },
   "file_extension": ".py",
   "mimetype": "text/x-python",
   "name": "python",
   "nbconvert_exporter": "python",
   "pygments_lexer": "ipython3",
   "version": "3.8.1"
  }
 },
 "nbformat": 4,
 "nbformat_minor": 2
}
